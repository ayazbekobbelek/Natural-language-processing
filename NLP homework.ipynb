{
 "cells": [
  {
   "cell_type": "markdown",
   "id": "tribal-amateur",
   "metadata": {
    "id": "tribal-amateur"
   },
   "source": [
    "# Predict used cars' price based on their description\n",
    "\n",
    "## Abstract\n",
    "\n",
    "... TODO"
   ]
  },
  {
   "cell_type": "markdown",
   "id": "divine-emperor",
   "metadata": {
    "id": "divine-emperor"
   },
   "source": [
    "## Preparing the dataset\n",
    "\n",
    "### Downloading\n",
    "\n",
    "#### Using Kaggle's API\n",
    "\n",
    "The dataset we are working with is from [kaggle](https://www.kaggle.com/austinreese/craigslist-carstrucks-data). To download the dataset, we can use kaggle's API command. In order to do this, we have to do the following steps.\n",
    "\n",
    "1. Install kaggle in Anaconda.\n",
    "\n",
    "`conda install -c conda-forge kaggle`\n",
    "\n",
    "2. Create personal API token on the website under the account settings. After downloading, move it to the appropriate folder (Linux: ~/.kaggle/kaggle.json, Windows: C:/Users/User/.kaggle/kaggle.json).\n",
    "\n",
    "3. Download the dataset with the API command.\n",
    "\n"
   ]
  },
  {
   "cell_type": "code",
   "execution_count": 1,
   "id": "1HtAtOYoihZy",
   "metadata": {
    "executionInfo": {
     "elapsed": 271,
     "status": "ok",
     "timestamp": 1621567758489,
     "user": {
      "displayName": "Kristóf Kalló",
      "photoUrl": "https://lh3.googleusercontent.com/a-/AOh14GgS4rvWww9LPvXRjKsj_FcDe4TVOtIk7O38QXZ3=s64",
      "userId": "00048328131166645594"
     },
     "user_tz": -120
    },
    "id": "1HtAtOYoihZy"
   },
   "outputs": [],
   "source": [
    "#!kaggle datasets download -d austinreese/craigslist-carstrucks-data"
   ]
  },
  {
   "cell_type": "markdown",
   "id": "FrQoTn4Gitlh",
   "metadata": {
    "id": "FrQoTn4Gitlh"
   },
   "source": [
    "4. Unzip\n"
   ]
  },
  {
   "cell_type": "code",
   "execution_count": 2,
   "id": "vFmAlKm0i0bl",
   "metadata": {
    "executionInfo": {
     "elapsed": 4,
     "status": "ok",
     "timestamp": 1621567758489,
     "user": {
      "displayName": "Kristóf Kalló",
      "photoUrl": "https://lh3.googleusercontent.com/a-/AOh14GgS4rvWww9LPvXRjKsj_FcDe4TVOtIk7O38QXZ3=s64",
      "userId": "00048328131166645594"
     },
     "user_tz": -120
    },
    "id": "vFmAlKm0i0bl"
   },
   "outputs": [],
   "source": [
    "#from zipfile import ZipFile\n",
    "#with ZipFile(\"craigslist-carstrucks-data.zip\") as myzip:\n",
    "#myzip.extractall(\"data\")"
   ]
  },
  {
   "cell_type": "markdown",
   "id": "fL64V4oPizzw",
   "metadata": {
    "id": "fL64V4oPizzw"
   },
   "source": [
    "#### Downloading directly\n",
    "\n",
    "Alternatively, we can download the csv directly, unzip and copy it to the correct location.\n",
    "\n"
   ]
  },
  {
   "cell_type": "markdown",
   "id": "CZ1PlH5ri9Ei",
   "metadata": {
    "id": "CZ1PlH5ri9Ei"
   },
   "source": [
    "#### Working in Google Colab\n",
    "\n",
    "We can upload the file to Drive and link from there. To do this, we need to take the following steps.\n",
    "\n",
    "1. Upload the file to Drive.\n",
    "\n",
    "2. Share the file, and copy its ID.\n",
    "\n",
    "3. In the notebook, import the following.\n",
    "\n"
   ]
  },
  {
   "cell_type": "code",
   "execution_count": 3,
   "id": "anWWcC_8jA4A",
   "metadata": {
    "executionInfo": {
     "elapsed": 291,
     "status": "ok",
     "timestamp": 1621567758777,
     "user": {
      "displayName": "Kristóf Kalló",
      "photoUrl": "https://lh3.googleusercontent.com/a-/AOh14GgS4rvWww9LPvXRjKsj_FcDe4TVOtIk7O38QXZ3=s64",
      "userId": "00048328131166645594"
     },
     "user_tz": -120
    },
    "id": "anWWcC_8jA4A"
   },
   "outputs": [],
   "source": [
    "#from pydrive.auth import GoogleAuth\n",
    "#from pydrive.drive import GoogleDrive\n",
    "#from google.colab import auth\n",
    "#from oauth2client.client import GoogleCredentials"
   ]
  },
  {
   "cell_type": "markdown",
   "id": "SmhHlehojEpJ",
   "metadata": {
    "id": "SmhHlehojEpJ"
   },
   "source": [
    "4. Authenticate\n"
   ]
  },
  {
   "cell_type": "code",
   "execution_count": 4,
   "id": "lesser-victorian",
   "metadata": {
    "executionInfo": {
     "elapsed": 15693,
     "status": "ok",
     "timestamp": 1621567774468,
     "user": {
      "displayName": "Kristóf Kalló",
      "photoUrl": "https://lh3.googleusercontent.com/a-/AOh14GgS4rvWww9LPvXRjKsj_FcDe4TVOtIk7O38QXZ3=s64",
      "userId": "00048328131166645594"
     },
     "user_tz": -120
    },
    "id": "lesser-victorian"
   },
   "outputs": [],
   "source": [
    "#auth.authenticate_user()\n",
    "#gauth = GoogleAuth()\n",
    "#gauth.credentials = GoogleCredentials.get_application_default()\n",
    "#drive = GoogleDrive(gauth)"
   ]
  },
  {
   "cell_type": "markdown",
   "id": "3aOlSG-QjKf5",
   "metadata": {
    "id": "3aOlSG-QjKf5"
   },
   "source": [
    "5. Download the file from Drive"
   ]
  },
  {
   "cell_type": "code",
   "execution_count": 5,
   "id": "planned-dressing",
   "metadata": {
    "executionInfo": {
     "elapsed": 53517,
     "status": "ok",
     "timestamp": 1621567827981,
     "user": {
      "displayName": "Kristóf Kalló",
      "photoUrl": "https://lh3.googleusercontent.com/a-/AOh14GgS4rvWww9LPvXRjKsj_FcDe4TVOtIk7O38QXZ3=s64",
      "userId": "00048328131166645594"
     },
     "user_tz": -120
    },
    "id": "planned-dressing"
   },
   "outputs": [],
   "source": [
    "#downloaded = drive.CreateFile({'id':\"10T9t3Kzzk4rO4Vsk3fuYpWkMj9t08_6e\"})   # replace the id with id of file you want to access\n",
    "#downloaded.GetContentFile('vehicles.csv')"
   ]
  },
  {
   "cell_type": "markdown",
   "id": "scenic-liberal",
   "metadata": {
    "id": "scenic-liberal"
   },
   "source": [
    "### Preprocessing\n",
    "\n",
    "#### Importing the dataset\n",
    "\n",
    "Besides the obvious columns _price_ and _description_, we also need _url_ for preprocessing."
   ]
  },
  {
   "cell_type": "code",
   "execution_count": 1,
   "id": "metallic-track",
   "metadata": {
    "colab": {
     "base_uri": "https://localhost:8080/",
     "height": 204
    },
    "executionInfo": {
     "elapsed": 12329,
     "status": "ok",
     "timestamp": 1621567840308,
     "user": {
      "displayName": "Kristóf Kalló",
      "photoUrl": "https://lh3.googleusercontent.com/a-/AOh14GgS4rvWww9LPvXRjKsj_FcDe4TVOtIk7O38QXZ3=s64",
      "userId": "00048328131166645594"
     },
     "user_tz": -120
    },
    "id": "metallic-track",
    "outputId": "73e7fe35-4cc2-4d15-b0df-7b77d66555e0"
   },
   "outputs": [
    {
     "data": {
      "text/html": [
       "<div>\n",
       "<style scoped>\n",
       "    .dataframe tbody tr th:only-of-type {\n",
       "        vertical-align: middle;\n",
       "    }\n",
       "\n",
       "    .dataframe tbody tr th {\n",
       "        vertical-align: top;\n",
       "    }\n",
       "\n",
       "    .dataframe thead th {\n",
       "        text-align: right;\n",
       "    }\n",
       "</style>\n",
       "<table border=\"1\" class=\"dataframe\">\n",
       "  <thead>\n",
       "    <tr style=\"text-align: right;\">\n",
       "      <th></th>\n",
       "      <th>url</th>\n",
       "      <th>price</th>\n",
       "      <th>description</th>\n",
       "    </tr>\n",
       "  </thead>\n",
       "  <tbody>\n",
       "    <tr>\n",
       "      <th>0</th>\n",
       "      <td>https://prescott.craigslist.org/cto/d/prescott...</td>\n",
       "      <td>6000</td>\n",
       "      <td>NaN</td>\n",
       "    </tr>\n",
       "    <tr>\n",
       "      <th>1</th>\n",
       "      <td>https://fayar.craigslist.org/ctd/d/bentonville...</td>\n",
       "      <td>11900</td>\n",
       "      <td>NaN</td>\n",
       "    </tr>\n",
       "    <tr>\n",
       "      <th>2</th>\n",
       "      <td>https://keys.craigslist.org/cto/d/summerland-k...</td>\n",
       "      <td>21000</td>\n",
       "      <td>NaN</td>\n",
       "    </tr>\n",
       "    <tr>\n",
       "      <th>3</th>\n",
       "      <td>https://worcester.craigslist.org/cto/d/west-br...</td>\n",
       "      <td>1500</td>\n",
       "      <td>NaN</td>\n",
       "    </tr>\n",
       "    <tr>\n",
       "      <th>4</th>\n",
       "      <td>https://greensboro.craigslist.org/cto/d/trinit...</td>\n",
       "      <td>4900</td>\n",
       "      <td>NaN</td>\n",
       "    </tr>\n",
       "  </tbody>\n",
       "</table>\n",
       "</div>"
      ],
      "text/plain": [
       "                                                 url  price description\n",
       "0  https://prescott.craigslist.org/cto/d/prescott...   6000         NaN\n",
       "1  https://fayar.craigslist.org/ctd/d/bentonville...  11900         NaN\n",
       "2  https://keys.craigslist.org/cto/d/summerland-k...  21000         NaN\n",
       "3  https://worcester.craigslist.org/cto/d/west-br...   1500         NaN\n",
       "4  https://greensboro.craigslist.org/cto/d/trinit...   4900         NaN"
      ]
     },
     "execution_count": 1,
     "metadata": {},
     "output_type": "execute_result"
    }
   ],
   "source": [
    "import pandas as pd\n",
    "\n",
    "vehicles = pd.read_csv('./data/vehicles.csv', usecols=['url', 'price', 'description'])\n",
    "vehicles.head()"
   ]
  },
  {
   "cell_type": "markdown",
   "id": "stunning-marsh",
   "metadata": {
    "id": "stunning-marsh"
   },
   "source": [
    "#### Filtering prices\n",
    "\n",
    "If we plot the prices of the cars in a histogram, we can see that there is an overwhelming amount below $1000. Since we are talking about cars, these prices are usually incorrect. In most cases the advertiser didn't specify the price, either because they forgot, or the price is negotiable. In other cases, the advertiser made a mistake about the price, like to miss a zero. There are also cases of wrecked cars, that are only being sold for the parts, but that's out of our interest.\n",
    "\n",
    "In the light of these observations, we decided to ignore the cars whose price is below $1000.\n",
    "\n",
    "In the same manner, we can say that above a certain price, the values are not necessarily valid. Without filtering out too many cases, let's say the treshold is $500 000."
   ]
  },
  {
   "cell_type": "code",
   "execution_count": 2,
   "id": "median-sheriff",
   "metadata": {
    "colab": {
     "base_uri": "https://localhost:8080/",
     "height": 545
    },
    "executionInfo": {
     "elapsed": 1192,
     "status": "ok",
     "timestamp": 1621568894667,
     "user": {
      "displayName": "Kristóf Kalló",
      "photoUrl": "https://lh3.googleusercontent.com/a-/AOh14GgS4rvWww9LPvXRjKsj_FcDe4TVOtIk7O38QXZ3=s64",
      "userId": "00048328131166645594"
     },
     "user_tz": -120
    },
    "id": "median-sheriff",
    "outputId": "6f6bfcbe-659b-4199-c1f3-cbaa0177f43d"
   },
   "outputs": [
    {
     "data": {
      "image/png": "[encoded data removed]",
      "text/plain": [
       "<Figure size 432x288 with 1 Axes>"
      ]
     },
     "metadata": {
      "needs_background": "light"
     },
     "output_type": "display_data"
    },
    {
     "data": {
      "image/png": "[encoded data removed]",
      "text/plain": [
       "<Figure size 432x288 with 1 Axes>"
      ]
     },
     "metadata": {
      "needs_background": "light"
     },
     "output_type": "display_data"
    }
   ],
   "source": [
    "import matplotlib.pyplot as plt\n",
    "plt.hist(vehicles['price'], bins=range(0, 100000, 1000))\n",
    "plt.title(\"Car prices\")\n",
    "plt.show()\n",
    "plt.hist(vehicles[vehicles.price > 1000]['price'], bins=range(0, 100000, 1000))\n",
    "plt.title(\"Car prices not including the ones below $1000\")\n",
    "plt.show()\n",
    "price_filtered_vehicles = vehicles[vehicles.price > 1000]\n",
    "price_filtered_vehicles = price_filtered_vehicles[price_filtered_vehicles.price < 500000]"
   ]
  },
  {
   "cell_type": "markdown",
   "id": "numerical-korean",
   "metadata": {
    "id": "numerical-korean"
   },
   "source": [
    "#### Filtering the descriptions\n",
    "\n",
    "A big percentage of the advertisements belong to car dealerships, and the descriptions of these are fairly useless, since they are usually template texts, with very little useful information. So we decided to ignore those. To decide which ones are from an actual owner would be a hard task in itself, fortunately though, the url contains this information. The owners' ads are marked with \"cto\" while the dealers' ads are marked with \"ctd\".\n",
    "\n",
    "There some ads with no descreption, we need to filter these as well.\n",
    "\n",
    "Also, we filter the ones that are less than 100 characters, since they usually don't contain enough information.\n",
    "\n",
    "After these filters, we are left with around 73k records, about 20% of the original dataset.\n",
    "\n",
    "Next, we lowercase the descriptions, so they can be tokenized by the uncased version of the BERT tokenizer."
   ]
  },
  {
   "cell_type": "code",
   "execution_count": 3,
   "id": "valued-wrapping",
   "metadata": {
    "colab": {
     "base_uri": "https://localhost:8080/"
    },
    "executionInfo": {
     "elapsed": 754,
     "status": "ok",
     "timestamp": 1621568937271,
     "user": {
      "displayName": "Kristóf Kalló",
      "photoUrl": "https://lh3.googleusercontent.com/a-/AOh14GgS4rvWww9LPvXRjKsj_FcDe4TVOtIk7O38QXZ3=s64",
      "userId": "00048328131166645594"
     },
     "user_tz": -120
    },
    "id": "valued-wrapping",
    "outputId": "412d3df2-5b96-4399-c770-7bfef4cfc514"
   },
   "outputs": [
    {
     "name": "stdout",
     "output_type": "stream",
     "text": [
      "Original: 379288\n",
      "Not null: 379227\n",
      "Owner only: 81538\n",
      "No short descriptions: 73600\n",
      "34     Selling my 2019 Toyota Tacoma TRD Off Road Dou...\n",
      "37     192k miles brand new TSLs 4x4 jeep xj. 4x4 wor...\n",
      "55     Here I have a unmolested Ford F-250 6.0 power ...\n",
      "59     Readily available. Excellent condition, clean ...\n",
      "65     Ford Super Duty F450 , XL with King Ranch seat...\n",
      "86     2004 Chrysler Town & Country Touring. Seats 7....\n",
      "95     Looking to sell my 2006 Subaru Impreza hatchba...\n",
      "101    Looking to find a good Volvo 1800S or 1800ES w...\n",
      "110    2003 Chrysler Town and Country Handicapped Acc...\n",
      "119    Aspects: -Goodyear Wrangler Tires: 33’s  -Catt...\n",
      "120    Diesel engine Mercedes e class. 7 speed auto t...\n",
      "122    2005 Blue Bird 12 window, 72 passenger bus tha...\n",
      "137    Great Chevy Barn Find  Great candidate for res...\n",
      "138    2006 Jeep Grand Cherokee Laredo FOR SALE BY OW...\n",
      "159    2017 Subaru Forester 2.5i Premium in excellent...\n",
      "160    bought from King Acura in Birmingham certified...\n",
      "171    The infamous , invincible million Mille 7.3 po...\n",
      "185    my Japanese is a bit rusty, but i am pretty su...\n",
      "186    2002 FORD THUNDERBIRD DELUXE IN INSPIRATION YE...\n",
      "193    1998 Ford F-150 XLT, extended cab, four brand ...\n",
      "Name: description, dtype: object\n",
      "34     selling my 2019 toyota tacoma trd off road dou...\n",
      "37     192k miles brand new tsls 4x4 jeep xj. 4x4 wor...\n",
      "55     here i have a unmolested ford f-250 6.0 power ...\n",
      "59     readily available. excellent condition, clean ...\n",
      "65     ford super duty f450 , xl with king ranch seat...\n",
      "86     2004 chrysler town & country touring. seats 7....\n",
      "95     looking to sell my 2006 subaru impreza hatchba...\n",
      "101    looking to find a good volvo 1800s or 1800es w...\n",
      "110    2003 chrysler town and country handicapped acc...\n",
      "119    aspects: -goodyear wrangler tires: 33’s  -catt...\n",
      "120    diesel engine mercedes e class. 7 speed auto t...\n",
      "122    2005 blue bird 12 window, 72 passenger bus tha...\n",
      "137    great chevy barn find  great candidate for res...\n",
      "138    2006 jeep grand cherokee laredo for sale by ow...\n",
      "159    2017 subaru forester 2.5i premium in excellent...\n",
      "160    bought from king acura in birmingham certified...\n",
      "171    the infamous , invincible million mille 7.3 po...\n",
      "185    my japanese is a bit rusty, but i am pretty su...\n",
      "186    2002 ford thunderbird deluxe in inspiration ye...\n",
      "193    1998 ford f-150 xlt, extended cab, four brand ...\n",
      "Name: description, dtype: object\n"
     ]
    }
   ],
   "source": [
    "print(\"Original: \"+str(len(price_filtered_vehicles)))\n",
    "desc_filtered_vehicles = price_filtered_vehicles[price_filtered_vehicles.description.notnull()]\n",
    "print(\"Not null: \"+str(len(desc_filtered_vehicles)))\n",
    "desc_filtered_vehicles = desc_filtered_vehicles[desc_filtered_vehicles.url.str.match(r\".*/cto/.*\")]\n",
    "print(\"Owner only: \"+str(len(desc_filtered_vehicles)))\n",
    "desc_filtered_vehicles = desc_filtered_vehicles[desc_filtered_vehicles.description.str.len() > 100]\n",
    "print(\"No short descriptions: \"+str(len(desc_filtered_vehicles)))\n",
    "print(desc_filtered_vehicles['description'].iloc[:20])\n",
    "desc_filtered_vehicles['description'] = desc_filtered_vehicles['description'].apply(lambda x: x.lower())\n",
    "print(desc_filtered_vehicles['description'].iloc[:20])"
   ]
  },
  {
   "cell_type": "markdown",
   "id": "duplicate-floor",
   "metadata": {},
   "source": [
    "## Training\n",
    "\n",
    "### Using DistilBERT and fine-tuning it\n"
   ]
  },
  {
   "cell_type": "markdown",
   "id": "entire-infrared",
   "metadata": {},
   "source": [
    "For this project we will use only a small portion of the dataset, because it takes a lot of memory and CPU time to train the model."
   ]
  },
  {
   "cell_type": "code",
   "execution_count": 4,
   "id": "unsigned-controversy",
   "metadata": {},
   "outputs": [],
   "source": [
    "batch_0 = desc_filtered_vehicles.iloc[:500]"
   ]
  },
  {
   "cell_type": "code",
   "execution_count": 5,
   "id": "-f-GO8uS9R1D",
   "metadata": {
    "colab": {
     "base_uri": "https://localhost:8080/"
    },
    "executionInfo": {
     "elapsed": 8836,
     "status": "ok",
     "timestamp": 1621567896311,
     "user": {
      "displayName": "Kristóf Kalló",
      "photoUrl": "https://lh3.googleusercontent.com/a-/AOh14GgS4rvWww9LPvXRjKsj_FcDe4TVOtIk7O38QXZ3=s64",
      "userId": "00048328131166645594"
     },
     "user_tz": -120
    },
    "id": "-f-GO8uS9R1D",
    "outputId": "4ac0d6a9-cf84-4ccb-f06d-e2559f401633"
   },
   "outputs": [],
   "source": [
    "#!pip install transformers"
   ]
  },
  {
   "cell_type": "code",
   "execution_count": 35,
   "id": "worst-deposit",
   "metadata": {
    "colab": {
     "base_uri": "https://localhost:8080/",
     "height": 333,
     "referenced_widgets": [
      "f7a3fdbe85c7461e97ad60cb74ed768b",
      "ce062666b48e49818f9ee47f0c93ea21",
      "d8457201b97d469285470d8b912200be",
      "aa036d5b96874b428a25f8602391ee14",
      "13160fed6a004dbfa8161be59ff858cc",
      "b67b676311a44e39ad2405f64a185507",
      "804f96253c52417fb39196006e57aeef",
      "fcf7a10deda04fa5941de0b722b572ce",
      "277148b04c7945dda31014db0a77299b",
      "86ebfcfd3c014174921f6b3f04e56f9e",
      "507a639ac0d94e1a8f1891731d7f9648",
      "6c5a08d0aca9427e9b4b616dc59dee65",
      "49ffb1986a094eacbeab8d3cf6cdfaab",
      "04e825fe87684f43878a50c4be6c3bb4",
      "b05064ec57f344b0875c51266303a8e0",
      "4b09530947e34b54bb1ea204deb832f6",
      "d623ee66f42d4c7288da72d59e1c28a2",
      "7a0c734738e54c4db7ce7f007e4aee69",
      "101c41aa61804531bb24df93baf6b284",
      "d7626c9282354af693ebb7f70fc6d915",
      "47cc0da5f4524c95afe6f68e72faeebe",
      "236dbc0b5bbd4e88a45877b5f1bfb7ee",
      "ae0a7b64bb0047c185f4ed6664bedde7",
      "2457a4b7e8ac4d27bef96224ea8c9ab8",
      "0406b77fc2334f1991d5ed6764e25f03",
      "19fcbdc3191d49c8b9ba447c44735f8f",
      "35498fe546424a7e8ec73a962be2d24b",
      "52bfdf2739e1499ab89534fd23ad1391",
      "114139be3fcb41428c431e964f547a58",
      "a4747e288b304ab89f3ee34780adf3a6",
      "f29fec3f8c76407abe1c8a8827589e6a",
      "58a80336a7614cf0b3087cf72e1fed2a",
      "be0b6f7e91d2438eb09db6c0a1bfc96c",
      "0262f9c759a14bf8b79cb880b8cc6643",
      "fb9107c2de7644788a586841962a1b27",
      "2bfb0b9485064d0dac7fa98669955738",
      "98fef9a308f74e839ae8f446841c5643",
      "412fe29636a24697967e71506980a0ff",
      "42f0e62759a2492e8b0049bba6291706",
      "7b0f24cd8b6e4a4082ac0f3a0ddaa173"
     ]
    },
    "executionInfo": {
     "elapsed": 13514,
     "status": "ok",
     "timestamp": 1621569187220,
     "user": {
      "displayName": "Kristóf Kalló",
      "photoUrl": "https://lh3.googleusercontent.com/a-/AOh14GgS4rvWww9LPvXRjKsj_FcDe4TVOtIk7O38QXZ3=s64",
      "userId": "00048328131166645594"
     },
     "user_tz": -120
    },
    "id": "worst-deposit",
    "outputId": "fae415bd-8b4e-436c-e2d4-e7bc1d8de538"
   },
   "outputs": [],
   "source": [
    "import numpy as np\n",
    "import torch\n",
    "import transformers\n",
    "import seaborn as sns\n",
    "from sklearn.linear_model import SGDRegressor\n",
    "from sklearn.model_selection import cross_val_score\n",
    "from sklearn.model_selection import train_test_split\n",
    "from torch.utils.data import Dataset, DataLoader\n",
    "from torch import nn\n",
    "from collections import defaultdict"
   ]
  },
  {
   "cell_type": "markdown",
   "id": "ambient-hepatitis",
   "metadata": {},
   "source": [
    "Loading DistilBERT."
   ]
  },
  {
   "cell_type": "code",
   "execution_count": 96,
   "id": "enhanced-speech",
   "metadata": {},
   "outputs": [
    {
     "name": "stderr",
     "output_type": "stream",
     "text": [
      "Some weights of the model checkpoint at distilbert-base-uncased were not used when initializing DistilBertModel: ['vocab_transform.weight', 'vocab_projector.bias', 'vocab_layer_norm.bias', 'vocab_layer_norm.weight', 'vocab_transform.bias', 'vocab_projector.weight']\n",
      "- This IS expected if you are initializing DistilBertModel from the checkpoint of a model trained on another task or with another architecture (e.g. initializing a BertForSequenceClassification model from a BertForPreTraining model).\n",
      "- This IS NOT expected if you are initializing DistilBertModel from the checkpoint of a model that you expect to be exactly identical (initializing a BertForSequenceClassification model from a BertForSequenceClassification model).\n"
     ]
    }
   ],
   "source": [
    "model_class = transformers.DistilBertModel\n",
    "tokenizer_class = transformers.DistilBertTokenizer\n",
    "pretrained_weights = 'distilbert-base-uncased'\n",
    "#model_class = transformers.BertModel\n",
    "#tokenizer_class = transformers.BertTokenizer\n",
    "#pretrained_weights = 'bert-base-uncased'\n",
    "\n",
    "tokenizer = tokenizer_class.from_pretrained(pretrained_weights)\n",
    "model = model_class.from_pretrained(pretrained_weights)"
   ]
  },
  {
   "cell_type": "markdown",
   "id": "current-garage",
   "metadata": {},
   "source": [
    "Let's see how many tokens does each description have. As we can see, most of them are less than 300 tokens long. We can chose the maximum length to be 256 without sacrificing too much information."
   ]
  },
  {
   "cell_type": "code",
   "execution_count": 47,
   "id": "inappropriate-david",
   "metadata": {},
   "outputs": [
    {
     "name": "stderr",
     "output_type": "stream",
     "text": [
      "C:\\Users\\Tofi\\miniconda3\\lib\\site-packages\\seaborn\\distributions.py:2557: FutureWarning: `distplot` is a deprecated function and will be removed in a future version. Please adapt your code to use either `displot` (a figure-level function with similar flexibility) or `histplot` (an axes-level function for histograms).\n",
      "  warnings.warn(msg, FutureWarning)\n"
     ]
    },
    {
     "data": {
      "image/png": "[encoded data removed]",
      "text/plain": [
       "<Figure size 432x288 with 1 Axes>"
      ]
     },
     "metadata": {
      "needs_background": "light"
     },
     "output_type": "display_data"
    }
   ],
   "source": [
    "token_lens = []\n",
    "for txt in batch_0['description']:\n",
    "    tokens = tokenizer.encode(txt, max_length=512)\n",
    "    token_lens.append(len(tokens))\n",
    "sns.distplot(token_lens)\n",
    "plt.xlim([0, 512]);\n",
    "plt.xlabel('Token count');"
   ]
  },
  {
   "cell_type": "markdown",
   "id": "unnecessary-metabolism",
   "metadata": {},
   "source": [
    "Let's define a dataset class for our cars, that extends the Dataset class from pytorch. This will make reading it easier."
   ]
  },
  {
   "cell_type": "code",
   "execution_count": 62,
   "id": "brave-objective",
   "metadata": {},
   "outputs": [],
   "source": [
    "class VehiclesDataset(Dataset):\n",
    "    def __init__(self, descriptions, prices, tokenizer, max_len):\n",
    "        self.descriptions = descriptions\n",
    "        self.prices = prices\n",
    "        self.tokenizer = tokenizer\n",
    "        self.max_len = max_len\n",
    "    def __len__(self):\n",
    "        return len(self.descriptions)\n",
    "    def __getitem__(self, item):\n",
    "        description = str(self.descriptions[item])\n",
    "        price = self.prices[item]\n",
    "        encoding = self.tokenizer.encode_plus(\n",
    "            description,\n",
    "            add_special_tokens=True,\n",
    "            max_length=self.max_len,\n",
    "            truncation=True,\n",
    "            return_token_type_ids=False,\n",
    "            padding='max_length',\n",
    "            return_attention_mask=True,\n",
    "            return_tensors='pt',\n",
    "        )\n",
    "        return {\n",
    "            'description_text': description,\n",
    "            'input_ids': encoding['input_ids'].flatten(),\n",
    "            'attention_mask': encoding['attention_mask'].flatten(),\n",
    "            'prices': torch.tensor(price, dtype=torch.float)\n",
    "        }"
   ]
  },
  {
   "cell_type": "markdown",
   "id": "floral-fellow",
   "metadata": {},
   "source": [
    "Splitting the dataset into train, dev, and test parts."
   ]
  },
  {
   "cell_type": "code",
   "execution_count": 63,
   "id": "intermediate-insight",
   "metadata": {},
   "outputs": [
    {
     "data": {
      "text/plain": [
       "((450, 3), (25, 3), (25, 3))"
      ]
     },
     "execution_count": 63,
     "metadata": {},
     "output_type": "execute_result"
    }
   ],
   "source": [
    "RANDOM_SEED = 1\n",
    "df_train, df_test = train_test_split(\n",
    "  batch_0,\n",
    "  test_size=0.1,\n",
    "  random_state=RANDOM_SEED\n",
    ")\n",
    "df_val, df_test = train_test_split(\n",
    "  df_test,\n",
    "  test_size=0.5,\n",
    "  random_state=RANDOM_SEED\n",
    ")\n",
    "df_train.shape, df_val.shape, df_test.shape"
   ]
  },
  {
   "cell_type": "markdown",
   "id": "collected-medicare",
   "metadata": {},
   "source": [
    "We also define a data loader alongside our dataset."
   ]
  },
  {
   "cell_type": "code",
   "execution_count": 64,
   "id": "behavioral-messaging",
   "metadata": {},
   "outputs": [],
   "source": [
    "def create_data_loader(df, tokenizer, max_len, batch_size):\n",
    "    ds = VehiclesDataset(\n",
    "        descriptions=df['description'].to_numpy(),\n",
    "        prices=df['price'].to_numpy(),\n",
    "        tokenizer=tokenizer,\n",
    "        max_len=max_len\n",
    "    )\n",
    "    return DataLoader(\n",
    "        ds,\n",
    "        batch_size=batch_size,\n",
    "        num_workers=0\n",
    "    )\n"
   ]
  },
  {
   "cell_type": "markdown",
   "id": "applied-colorado",
   "metadata": {},
   "source": [
    "Creating a data loader for each set."
   ]
  },
  {
   "cell_type": "code",
   "execution_count": 65,
   "id": "supported-array",
   "metadata": {},
   "outputs": [],
   "source": [
    "MAX_LEN = 256\n",
    "BATCH_SIZE = 16\n",
    "train_data_loader = create_data_loader(df_train, tokenizer, MAX_LEN, BATCH_SIZE)\n",
    "val_data_loader = create_data_loader(df_val, tokenizer, MAX_LEN, BATCH_SIZE)\n",
    "test_data_loader = create_data_loader(df_test, tokenizer, MAX_LEN, BATCH_SIZE)"
   ]
  },
  {
   "cell_type": "code",
   "execution_count": 66,
   "id": "prostate-orlando",
   "metadata": {},
   "outputs": [
    {
     "data": {
      "text/plain": [
       "dict_keys(['description_text', 'input_ids', 'attention_mask', 'prices'])"
      ]
     },
     "execution_count": 66,
     "metadata": {},
     "output_type": "execute_result"
    }
   ],
   "source": [
    "#data = next(iter(train_data_loader))\n",
    "#data.keys()\n"
   ]
  },
  {
   "cell_type": "code",
   "execution_count": 67,
   "id": "severe-spine",
   "metadata": {},
   "outputs": [
    {
     "name": "stdout",
     "output_type": "stream",
     "text": [
      "torch.Size([16, 256])\n",
      "torch.Size([16, 256])\n",
      "torch.Size([16])\n"
     ]
    }
   ],
   "source": [
    "#print(data['input_ids'].shape)\n",
    "#print(data['attention_mask'].shape)\n",
    "#print(data['prices'].shape)"
   ]
  },
  {
   "cell_type": "markdown",
   "id": "sharp-marina",
   "metadata": {},
   "source": [
    "#### Our model\n",
    "\n",
    "The model consists of the BERT model itself, a dropout part, and a final layer, with only one output as the predicted price. The dropout is supposed to be there to avoid overfitting."
   ]
  },
  {
   "cell_type": "code",
   "execution_count": 68,
   "id": "warming-series",
   "metadata": {},
   "outputs": [],
   "source": [
    "class PriceGuesser(nn.Module):\n",
    "    def __init__(self):\n",
    "        super(PriceGuesser, self).__init__()\n",
    "        self.bert = model_class.from_pretrained(pretrained_weights)\n",
    "        self.drop = nn.Dropout(p=0.3)\n",
    "        self.out = nn.Linear(self.bert.config.hidden_size, 1)\n",
    "    def forward(self, input_ids, attention_mask):\n",
    "        outputs = self.bert(\n",
    "            input_ids=input_ids,\n",
    "            attention_mask=attention_mask\n",
    "        )\n",
    "        output = self.drop(outputs.last_hidden_state[:,0,:])\n",
    "        return self.out(output)"
   ]
  },
  {
   "cell_type": "code",
   "execution_count": 69,
   "id": "satellite-explanation",
   "metadata": {
    "scrolled": true
   },
   "outputs": [
    {
     "name": "stderr",
     "output_type": "stream",
     "text": [
      "Some weights of the model checkpoint at distilbert-base-uncased were not used when initializing DistilBertModel: ['vocab_transform.weight', 'vocab_projector.bias', 'vocab_layer_norm.bias', 'vocab_layer_norm.weight', 'vocab_transform.bias', 'vocab_projector.weight']\n",
      "- This IS expected if you are initializing DistilBertModel from the checkpoint of a model trained on another task or with another architecture (e.g. initializing a BertForSequenceClassification model from a BertForPreTraining model).\n",
      "- This IS NOT expected if you are initializing DistilBertModel from the checkpoint of a model that you expect to be exactly identical (initializing a BertForSequenceClassification model from a BertForSequenceClassification model).\n"
     ]
    }
   ],
   "source": [
    "model = PriceGuesser()"
   ]
  },
  {
   "cell_type": "code",
   "execution_count": 70,
   "id": "conceptual-chair",
   "metadata": {},
   "outputs": [
    {
     "name": "stdout",
     "output_type": "stream",
     "text": [
      "torch.Size([16, 256])\n",
      "torch.Size([16, 256])\n"
     ]
    }
   ],
   "source": [
    "#input_ids = data['input_ids']\n",
    "#attention_mask = data['attention_mask']\n",
    "#print(input_ids.shape) # batch size x seq length\n",
    "#print(attention_mask.shape) # batch size x seq length"
   ]
  },
  {
   "cell_type": "markdown",
   "id": "recent-anthony",
   "metadata": {},
   "source": [
    "### Training\n",
    "\n",
    "We did not really change BERT's recommended parameters, but for the loss function, we used the root mean square error function, which is good for regression tasks."
   ]
  },
  {
   "cell_type": "code",
   "execution_count": 76,
   "id": "veterinary-curve",
   "metadata": {},
   "outputs": [],
   "source": [
    "EPOCHS = 3\n",
    "optimizer = transformers.AdamW(model.parameters(), lr=2e-5, correct_bias=False)\n",
    "total_steps = len(train_data_loader) * EPOCHS\n",
    "scheduler = transformers.get_linear_schedule_with_warmup(\n",
    "    optimizer,\n",
    "    num_warmup_steps=0,\n",
    "    num_training_steps=total_steps\n",
    ")\n",
    "loss_fn = nn.MSELoss()"
   ]
  },
  {
   "cell_type": "markdown",
   "id": "steady-avenue",
   "metadata": {},
   "source": [
    "We defined two functions, one for the training, and another for evaluating the model with the dev set."
   ]
  },
  {
   "cell_type": "code",
   "execution_count": 77,
   "id": "virtual-dinner",
   "metadata": {},
   "outputs": [],
   "source": [
    "def train_epoch(\n",
    "    model,\n",
    "    data_loader,\n",
    "    loss_fn,\n",
    "    optimizer,\n",
    "    scheduler,\n",
    "    n_examples\n",
    "):\n",
    "    model = model.train()\n",
    "    correct_predictions = 0\n",
    "    for d in data_loader:\n",
    "        input_ids = d[\"input_ids\"]\n",
    "        attention_mask = d[\"attention_mask\"]\n",
    "        prices = d[\"prices\"]\n",
    "        output = model(\n",
    "            input_ids=input_ids,\n",
    "            attention_mask=attention_mask\n",
    "        )\n",
    "        loss = torch.sqrt(loss_fn(output, prices))\n",
    "        loss.backward()\n",
    "        nn.utils.clip_grad_norm_(model.parameters(), max_norm=1.0)\n",
    "        optimizer.step()\n",
    "        scheduler.step()\n",
    "        optimizer.zero_grad()\n",
    "    return loss"
   ]
  },
  {
   "cell_type": "code",
   "execution_count": 80,
   "id": "adolescent-genealogy",
   "metadata": {},
   "outputs": [],
   "source": [
    "def eval_model(model, data_loader, loss_fn, n_examples):\n",
    "    model = model.eval()\n",
    "    with torch.no_grad():\n",
    "        for d in data_loader:\n",
    "            input_ids = d[\"input_ids\"]\n",
    "            attention_mask = d[\"attention_mask\"]\n",
    "            prices = d[\"prices\"]\n",
    "            output = model(\n",
    "                input_ids=input_ids,\n",
    "                attention_mask=attention_mask\n",
    "            )\n",
    "            loss = torch.sqrt(loss_fn(output, prices))\n",
    "    return loss"
   ]
  },
  {
   "cell_type": "markdown",
   "id": "infinite-auckland",
   "metadata": {},
   "source": [
    "Finally, here is the training loop itself. Running this took a lot of time and memory, so there might be something we overlook in the setup process. Even so that the result didn't really improve at all through the epochs."
   ]
  },
  {
   "cell_type": "code",
   "execution_count": 81,
   "id": "several-intensity",
   "metadata": {},
   "outputs": [
    {
     "name": "stdout",
     "output_type": "stream",
     "text": [
      "Epoch 1/3\n",
      "----------\n",
      "Train loss 5487.30859375\n"
     ]
    },
    {
     "name": "stderr",
     "output_type": "stream",
     "text": [
      "C:\\Users\\Tofi\\miniconda3\\lib\\site-packages\\torch\\nn\\modules\\loss.py:528: UserWarning: Using a target size (torch.Size([9])) that is different to the input size (torch.Size([9, 1])). This will likely lead to incorrect results due to broadcasting. Please ensure they have the same size.\n",
      "  return F.mse_loss(input, target, reduction=self.reduction)\n"
     ]
    },
    {
     "name": "stdout",
     "output_type": "stream",
     "text": [
      "Val   loss 16347.4306640625\n",
      "\n",
      "Epoch 2/3\n",
      "----------\n",
      "Train loss 5487.35595703125\n",
      "Val   loss 16347.2900390625\n",
      "\n",
      "Epoch 3/3\n",
      "----------\n"
     ]
    },
    {
     "ename": "KeyboardInterrupt",
     "evalue": "",
     "output_type": "error",
     "traceback": [
      "\u001b[1;31m---------------------------------------------------------------------------\u001b[0m",
      "\u001b[1;31mKeyboardInterrupt\u001b[0m                         Traceback (most recent call last)",
      "\u001b[1;32m<timed exec>\u001b[0m in \u001b[0;36m<module>\u001b[1;34m\u001b[0m\n",
      "\u001b[1;32m<ipython-input-77-7807476fe1ca>\u001b[0m in \u001b[0;36mtrain_epoch\u001b[1;34m(model, data_loader, loss_fn, optimizer, scheduler, n_examples)\u001b[0m\n\u001b[0;32m     18\u001b[0m         )\n\u001b[0;32m     19\u001b[0m         \u001b[0mloss\u001b[0m \u001b[1;33m=\u001b[0m \u001b[0mtorch\u001b[0m\u001b[1;33m.\u001b[0m\u001b[0msqrt\u001b[0m\u001b[1;33m(\u001b[0m\u001b[0mloss_fn\u001b[0m\u001b[1;33m(\u001b[0m\u001b[0moutput\u001b[0m\u001b[1;33m,\u001b[0m \u001b[0mprices\u001b[0m\u001b[1;33m)\u001b[0m\u001b[1;33m)\u001b[0m\u001b[1;33m\u001b[0m\u001b[1;33m\u001b[0m\u001b[0m\n\u001b[1;32m---> 20\u001b[1;33m         \u001b[0mloss\u001b[0m\u001b[1;33m.\u001b[0m\u001b[0mbackward\u001b[0m\u001b[1;33m(\u001b[0m\u001b[1;33m)\u001b[0m\u001b[1;33m\u001b[0m\u001b[1;33m\u001b[0m\u001b[0m\n\u001b[0m\u001b[0;32m     21\u001b[0m         \u001b[0mnn\u001b[0m\u001b[1;33m.\u001b[0m\u001b[0mutils\u001b[0m\u001b[1;33m.\u001b[0m\u001b[0mclip_grad_norm_\u001b[0m\u001b[1;33m(\u001b[0m\u001b[0mmodel\u001b[0m\u001b[1;33m.\u001b[0m\u001b[0mparameters\u001b[0m\u001b[1;33m(\u001b[0m\u001b[1;33m)\u001b[0m\u001b[1;33m,\u001b[0m \u001b[0mmax_norm\u001b[0m\u001b[1;33m=\u001b[0m\u001b[1;36m1.0\u001b[0m\u001b[1;33m)\u001b[0m\u001b[1;33m\u001b[0m\u001b[1;33m\u001b[0m\u001b[0m\n\u001b[0;32m     22\u001b[0m         \u001b[0moptimizer\u001b[0m\u001b[1;33m.\u001b[0m\u001b[0mstep\u001b[0m\u001b[1;33m(\u001b[0m\u001b[1;33m)\u001b[0m\u001b[1;33m\u001b[0m\u001b[1;33m\u001b[0m\u001b[0m\n",
      "\u001b[1;32m~\\miniconda3\\lib\\site-packages\\torch\\tensor.py\u001b[0m in \u001b[0;36mbackward\u001b[1;34m(self, gradient, retain_graph, create_graph, inputs)\u001b[0m\n\u001b[0;32m    243\u001b[0m                 \u001b[0mcreate_graph\u001b[0m\u001b[1;33m=\u001b[0m\u001b[0mcreate_graph\u001b[0m\u001b[1;33m,\u001b[0m\u001b[1;33m\u001b[0m\u001b[1;33m\u001b[0m\u001b[0m\n\u001b[0;32m    244\u001b[0m                 inputs=inputs)\n\u001b[1;32m--> 245\u001b[1;33m         \u001b[0mtorch\u001b[0m\u001b[1;33m.\u001b[0m\u001b[0mautograd\u001b[0m\u001b[1;33m.\u001b[0m\u001b[0mbackward\u001b[0m\u001b[1;33m(\u001b[0m\u001b[0mself\u001b[0m\u001b[1;33m,\u001b[0m \u001b[0mgradient\u001b[0m\u001b[1;33m,\u001b[0m \u001b[0mretain_graph\u001b[0m\u001b[1;33m,\u001b[0m \u001b[0mcreate_graph\u001b[0m\u001b[1;33m,\u001b[0m \u001b[0minputs\u001b[0m\u001b[1;33m=\u001b[0m\u001b[0minputs\u001b[0m\u001b[1;33m)\u001b[0m\u001b[1;33m\u001b[0m\u001b[1;33m\u001b[0m\u001b[0m\n\u001b[0m\u001b[0;32m    246\u001b[0m \u001b[1;33m\u001b[0m\u001b[0m\n\u001b[0;32m    247\u001b[0m     \u001b[1;32mdef\u001b[0m \u001b[0mregister_hook\u001b[0m\u001b[1;33m(\u001b[0m\u001b[0mself\u001b[0m\u001b[1;33m,\u001b[0m \u001b[0mhook\u001b[0m\u001b[1;33m)\u001b[0m\u001b[1;33m:\u001b[0m\u001b[1;33m\u001b[0m\u001b[1;33m\u001b[0m\u001b[0m\n",
      "\u001b[1;32m~\\miniconda3\\lib\\site-packages\\torch\\autograd\\__init__.py\u001b[0m in \u001b[0;36mbackward\u001b[1;34m(tensors, grad_tensors, retain_graph, create_graph, grad_variables, inputs)\u001b[0m\n\u001b[0;32m    143\u001b[0m         \u001b[0mretain_graph\u001b[0m \u001b[1;33m=\u001b[0m \u001b[0mcreate_graph\u001b[0m\u001b[1;33m\u001b[0m\u001b[1;33m\u001b[0m\u001b[0m\n\u001b[0;32m    144\u001b[0m \u001b[1;33m\u001b[0m\u001b[0m\n\u001b[1;32m--> 145\u001b[1;33m     Variable._execution_engine.run_backward(\n\u001b[0m\u001b[0;32m    146\u001b[0m         \u001b[0mtensors\u001b[0m\u001b[1;33m,\u001b[0m \u001b[0mgrad_tensors_\u001b[0m\u001b[1;33m,\u001b[0m \u001b[0mretain_graph\u001b[0m\u001b[1;33m,\u001b[0m \u001b[0mcreate_graph\u001b[0m\u001b[1;33m,\u001b[0m \u001b[0minputs\u001b[0m\u001b[1;33m,\u001b[0m\u001b[1;33m\u001b[0m\u001b[1;33m\u001b[0m\u001b[0m\n\u001b[0;32m    147\u001b[0m         allow_unreachable=True, accumulate_grad=True)  # allow_unreachable flag\n",
      "\u001b[1;31mKeyboardInterrupt\u001b[0m: "
     ]
    }
   ],
   "source": [
    "%%time\n",
    "history = defaultdict(list)\n",
    "least_loss = 100000\n",
    "for epoch in range(EPOCHS):\n",
    "    print(f'Epoch {epoch + 1}/{EPOCHS}')\n",
    "    print('-' * 10)\n",
    "    train_loss = train_epoch(\n",
    "        model,\n",
    "        train_data_loader,\n",
    "        loss_fn,\n",
    "        optimizer,\n",
    "        scheduler,\n",
    "        len(df_train)\n",
    "    )\n",
    "    print(f'Train loss {train_loss}')\n",
    "    val_loss = eval_model(\n",
    "        model,\n",
    "        val_data_loader,\n",
    "        loss_fn,\n",
    "        len(df_val)\n",
    "    )\n",
    "    print(f'Val   loss {val_loss}')\n",
    "    print()\n",
    "    history['train_loss'].append(train_loss)\n",
    "    history['val_loss'].append(val_loss)\n",
    "    if val_loss < least_loss:\n",
    "        torch.save(model.state_dict(), 'best_model_state.bin')\n",
    "        least_loss = val_loss"
   ]
  },
  {
   "cell_type": "code",
   "execution_count": 84,
   "id": "continued-bloom",
   "metadata": {},
   "outputs": [
    {
     "data": {
      "image/png": "[encoded data removed]",
      "text/plain": [
       "<Figure size 432x288 with 1 Axes>"
      ]
     },
     "metadata": {
      "needs_background": "light"
     },
     "output_type": "display_data"
    }
   ],
   "source": [
    "plt.plot(history['train_loss'], label='train loss')\n",
    "plt.plot(history['val_loss'], label='validation loss')\n",
    "plt.title('Training history')\n",
    "plt.ylabel('Loss')\n",
    "plt.xlabel('Epoch')\n",
    "plt.legend()\n",
    "plt.ylim([0, 20000]);"
   ]
  },
  {
   "cell_type": "code",
   "execution_count": null,
   "id": "patient-phone",
   "metadata": {},
   "outputs": [],
   "source": []
  },
  {
   "cell_type": "markdown",
   "id": "skilled-colonial",
   "metadata": {},
   "source": [
    "### Using just the pre-trained BERT model\n",
    "\n",
    "We tried to train without fine-tuning the model, using an SGD regression at the end."
   ]
  },
  {
   "cell_type": "code",
   "execution_count": 97,
   "id": "YfG9P4LUDacS",
   "metadata": {
    "executionInfo": {
     "elapsed": 188371,
     "status": "ok",
     "timestamp": 1621569937875,
     "user": {
      "displayName": "Kristóf Kalló",
      "photoUrl": "https://lh3.googleusercontent.com/a-/AOh14GgS4rvWww9LPvXRjKsj_FcDe4TVOtIk7O38QXZ3=s64",
      "userId": "00048328131166645594"
     },
     "user_tz": -120
    },
    "id": "YfG9P4LUDacS"
   },
   "outputs": [],
   "source": [
    "tokenized = batch_0['description'].apply((lambda x: tokenizer.encode(x, add_special_tokens=True, max_length=256, truncation=True)))"
   ]
  },
  {
   "cell_type": "code",
   "execution_count": 98,
   "id": "solid-catholic",
   "metadata": {
    "colab": {
     "base_uri": "https://localhost:8080/"
    },
    "executionInfo": {
     "elapsed": 4641,
     "status": "ok",
     "timestamp": 1621570513103,
     "user": {
      "displayName": "Kristóf Kalló",
      "photoUrl": "https://lh3.googleusercontent.com/a-/AOh14GgS4rvWww9LPvXRjKsj_FcDe4TVOtIk7O38QXZ3=s64",
      "userId": "00048328131166645594"
     },
     "user_tz": -120
    },
    "id": "solid-catholic",
    "outputId": "85592762-3cd6-4b66-fac4-a6ef994f530f"
   },
   "outputs": [
    {
     "data": {
      "text/plain": [
       "(500, 256)"
      ]
     },
     "execution_count": 98,
     "metadata": {},
     "output_type": "execute_result"
    }
   ],
   "source": [
    "max_len = 256\n",
    "\n",
    "padded = np.array([i + [0]*(max_len-len(i)) for i in tokenized.values])\n",
    "np.array(padded).shape"
   ]
  },
  {
   "cell_type": "code",
   "execution_count": 99,
   "id": "39f7WQscIW9o",
   "metadata": {
    "colab": {
     "base_uri": "https://localhost:8080/"
    },
    "executionInfo": {
     "elapsed": 158,
     "status": "ok",
     "timestamp": 1621570514407,
     "user": {
      "displayName": "Kristóf Kalló",
      "photoUrl": "https://lh3.googleusercontent.com/a-/AOh14GgS4rvWww9LPvXRjKsj_FcDe4TVOtIk7O38QXZ3=s64",
      "userId": "00048328131166645594"
     },
     "user_tz": -120
    },
    "id": "39f7WQscIW9o",
    "outputId": "5be8a135-b918-40ec-8b50-c972791956e6"
   },
   "outputs": [
    {
     "data": {
      "text/plain": [
       "(500, 256)"
      ]
     },
     "execution_count": 99,
     "metadata": {},
     "output_type": "execute_result"
    }
   ],
   "source": [
    "attention_mask = np.where(padded != 0, 1, 0)\n",
    "attention_mask.shape"
   ]
  },
  {
   "cell_type": "code",
   "execution_count": 100,
   "id": "VNgAkNP-InxX",
   "metadata": {
    "id": "VNgAkNP-InxX"
   },
   "outputs": [],
   "source": [
    "input_ids = torch.tensor(padded)\n",
    "attention_mask = torch.tensor(attention_mask)\n",
    "\n",
    "with torch.no_grad():\n",
    "    last_hidden_states = model(input_ids, attention_mask=attention_mask)"
   ]
  },
  {
   "cell_type": "code",
   "execution_count": 101,
   "id": "centered-river",
   "metadata": {},
   "outputs": [],
   "source": [
    "features = last_hidden_states[0][:,0,:].numpy()"
   ]
  },
  {
   "cell_type": "code",
   "execution_count": 104,
   "id": "prerequisite-question",
   "metadata": {},
   "outputs": [],
   "source": [
    "labels = batch_0['price']"
   ]
  },
  {
   "cell_type": "code",
   "execution_count": 105,
   "id": "mexican-resistance",
   "metadata": {},
   "outputs": [
    {
     "name": "stdout",
     "output_type": "stream",
     "text": [
      "(400, 768)\n",
      "(400,)\n"
     ]
    }
   ],
   "source": [
    "Xtrain, Xtest, ytrain, ytest = train_test_split(features, labels, test_size=0.2, random_state=0)\n",
    "print(Xtrain.shape)\n",
    "print(ytrain.shape)"
   ]
  },
  {
   "cell_type": "code",
   "execution_count": 106,
   "id": "working-skating",
   "metadata": {},
   "outputs": [
    {
     "data": {
      "text/plain": [
       "SGDRegressor(max_iter=10000)"
      ]
     },
     "execution_count": 106,
     "metadata": {},
     "output_type": "execute_result"
    }
   ],
   "source": [
    "regr = SGDRegressor(max_iter=10000)\n",
    "regr.fit(Xtrain, ytrain)"
   ]
  },
  {
   "cell_type": "markdown",
   "id": "legal-checklist",
   "metadata": {},
   "source": [
    "Here is the result, the prediction (in yellow) compared to the actual prices (in blue)."
   ]
  },
  {
   "cell_type": "code",
   "execution_count": 113,
   "id": "opened-europe",
   "metadata": {},
   "outputs": [
    {
     "data": {
      "text/plain": [
       "[<matplotlib.lines.Line2D at 0x22141cbca90>]"
      ]
     },
     "execution_count": 113,
     "metadata": {},
     "output_type": "execute_result"
    },
    {
     "data": {
      "image/png": "[encoded data removed]",
      "text/plain": [
       "<Figure size 432x288 with 1 Axes>"
      ]
     },
     "metadata": {
      "needs_background": "light"
     },
     "output_type": "display_data"
    }
   ],
   "source": [
    "plt.plot(ytest.iloc[0:30].tolist())\n",
    "plt.plot(regr.predict(Xtest)[0:30].tolist())"
   ]
  },
  {
   "cell_type": "markdown",
   "id": "monthly-offering",
   "metadata": {},
   "source": [
    "The root mean square error of the simple model:"
   ]
  },
  {
   "cell_type": "code",
   "execution_count": 114,
   "id": "sublime-strand",
   "metadata": {},
   "outputs": [
    {
     "data": {
      "text/plain": [
       "10189.141773038533"
      ]
     },
     "execution_count": 114,
     "metadata": {},
     "output_type": "execute_result"
    }
   ],
   "source": [
    "from sklearn.metrics import mean_squared_error\n",
    "\n",
    "rms = mean_squared_error(ytest, regr.predict(Xtest), squared=False)\n",
    "rms"
   ]
  },
  {
   "cell_type": "code",
   "execution_count": 91,
   "id": "united-nomination",
   "metadata": {},
   "outputs": [
    {
     "name": "stdout",
     "output_type": "stream",
     "text": [
      "2011 gmc 2500 duramax truck for sale, has allison transmission 4x4 slt z71 crew cab. super nice! comes with leather seats, duel power seats, heated seats, adjustable pedals, power windows and door locks, backup cam, towing package, trailer brakes, keyless entry, cruise control, cold ac, good heat, tool box, bed rails, in bed liner, sprayed. michelin tires, super nice truck and more. 27,900.00 call larry  show contact info\n",
      "27900\n"
     ]
    }
   ],
   "source": [
    "#ID = 200\n",
    "#print(df_train.iloc[ID]['description'])\n",
    "#print(df_train.iloc[ID]['price'])"
   ]
  },
  {
   "cell_type": "markdown",
   "id": "conscious-extraction",
   "metadata": {},
   "source": [
    "## References\n",
    "\n",
    "The model is based on this tutorial:\n",
    "[https://curiousily.com/posts/sentiment-analysis-with-bert-and-hugging-face-using-pytorch-and-python/]\n",
    "\n",
    "And this one: https://github.com/jalammar/jalammar.github.io/blob/master/notebooks/bert/A_Visual_Notebook_to_Using_BERT_for_the_First_Time.ipynb\n",
    "\n",
    "There was some important information in this question: https://stackoverflow.com/questions/15087322/how-to-predict-a-continuous-value-time-from-text-documents/\n",
    "\n"
   ]
  }
 ],
 "metadata": {
  "colab": {
   "name": "NLP homework.ipynb",
   "provenance": []
  },
  "kernelspec": {
   "display_name": "Python 3",
   "language": "python",
   "name": "python3"
  },
  "language_info": {
   "codemirror_mode": {
    "name": "ipython",
    "version": 3
   },
   "file_extension": ".py",
   "mimetype": "text/x-python",
   "name": "python",
   "nbconvert_exporter": "python",
   "pygments_lexer": "ipython3",
   "version": "3.8.8"
  },
  "widgets": {
   "application/vnd.jupyter.widget-state+json": {
    "0262f9c759a14bf8b79cb880b8cc6643": {
     "model_module": "@jupyter-widgets/base",
     "model_name": "LayoutModel",
     "state": {
      "_model_module": "@jupyter-widgets/base",
      "_model_module_version": "1.2.0",
      "_model_name": "LayoutModel",
      "_view_count": null,
      "_view_module": "@jupyter-widgets/base",
      "_view_module_version": "1.2.0",
      "_view_name": "LayoutView",
      "align_content": null,
      "align_items": null,
      "align_self": null,
      "border": null,
      "bottom": null,
      "display": null,
      "flex": null,
      "flex_flow": null,
      "grid_area": null,
      "grid_auto_columns": null,
      "grid_auto_flow": null,
      "grid_auto_rows": null,
      "grid_column": null,
      "grid_gap": null,
      "grid_row": null,
      "grid_template_areas": null,
      "grid_template_columns": null,
      "grid_template_rows": null,
      "height": null,
      "justify_content": null,
      "justify_items": null,
      "left": null,
      "margin": null,
      "max_height": null,
      "max_width": null,
      "min_height": null,
      "min_width": null,
      "object_fit": null,
      "object_position": null,
      "order": null,
      "overflow": null,
      "overflow_x": null,
      "overflow_y": null,
      "padding": null,
      "right": null,
      "top": null,
      "visibility": null,
      "width": null
     }
    },
    "0406b77fc2334f1991d5ed6764e25f03": {
     "model_module": "@jupyter-widgets/controls",
     "model_name": "HBoxModel",
     "state": {
      "_dom_classes": [],
      "_model_module": "@jupyter-widgets/controls",
      "_model_module_version": "1.5.0",
      "_model_name": "HBoxModel",
      "_view_count": null,
      "_view_module": "@jupyter-widgets/controls",
      "_view_module_version": "1.5.0",
      "_view_name": "HBoxView",
      "box_style": "",
      "children": [
       "IPY_MODEL_35498fe546424a7e8ec73a962be2d24b",
       "IPY_MODEL_52bfdf2739e1499ab89534fd23ad1391"
      ],
      "layout": "IPY_MODEL_19fcbdc3191d49c8b9ba447c44735f8f"
     }
    },
    "04e825fe87684f43878a50c4be6c3bb4": {
     "model_module": "@jupyter-widgets/base",
     "model_name": "LayoutModel",
     "state": {
      "_model_module": "@jupyter-widgets/base",
      "_model_module_version": "1.2.0",
      "_model_name": "LayoutModel",
      "_view_count": null,
      "_view_module": "@jupyter-widgets/base",
      "_view_module_version": "1.2.0",
      "_view_name": "LayoutView",
      "align_content": null,
      "align_items": null,
      "align_self": null,
      "border": null,
      "bottom": null,
      "display": null,
      "flex": null,
      "flex_flow": null,
      "grid_area": null,
      "grid_auto_columns": null,
      "grid_auto_flow": null,
      "grid_auto_rows": null,
      "grid_column": null,
      "grid_gap": null,
      "grid_row": null,
      "grid_template_areas": null,
      "grid_template_columns": null,
      "grid_template_rows": null,
      "height": null,
      "justify_content": null,
      "justify_items": null,
      "left": null,
      "margin": null,
      "max_height": null,
      "max_width": null,
      "min_height": null,
      "min_width": null,
      "object_fit": null,
      "object_position": null,
      "order": null,
      "overflow": null,
      "overflow_x": null,
      "overflow_y": null,
      "padding": null,
      "right": null,
      "top": null,
      "visibility": null,
      "width": null
     }
    },
    "101c41aa61804531bb24df93baf6b284": {
     "model_module": "@jupyter-widgets/controls",
     "model_name": "FloatProgressModel",
     "state": {
      "_dom_classes": [],
      "_model_module": "@jupyter-widgets/controls",
      "_model_module_version": "1.5.0",
      "_model_name": "FloatProgressModel",
      "_view_count": null,
      "_view_module": "@jupyter-widgets/controls",
      "_view_module_version": "1.5.0",
      "_view_name": "ProgressView",
      "bar_style": "success",
      "description": "Downloading: 100%",
      "description_tooltip": null,
      "layout": "IPY_MODEL_236dbc0b5bbd4e88a45877b5f1bfb7ee",
      "max": 466062,
      "min": 0,
      "orientation": "horizontal",
      "style": "IPY_MODEL_47cc0da5f4524c95afe6f68e72faeebe",
      "value": 466062
     }
    },
    "114139be3fcb41428c431e964f547a58": {
     "model_module": "@jupyter-widgets/controls",
     "model_name": "ProgressStyleModel",
     "state": {
      "_model_module": "@jupyter-widgets/controls",
      "_model_module_version": "1.5.0",
      "_model_name": "ProgressStyleModel",
      "_view_count": null,
      "_view_module": "@jupyter-widgets/base",
      "_view_module_version": "1.2.0",
      "_view_name": "StyleView",
      "bar_color": null,
      "description_width": "initial"
     }
    },
    "13160fed6a004dbfa8161be59ff858cc": {
     "model_module": "@jupyter-widgets/controls",
     "model_name": "ProgressStyleModel",
     "state": {
      "_model_module": "@jupyter-widgets/controls",
      "_model_module_version": "1.5.0",
      "_model_name": "ProgressStyleModel",
      "_view_count": null,
      "_view_module": "@jupyter-widgets/base",
      "_view_module_version": "1.2.0",
      "_view_name": "StyleView",
      "bar_color": null,
      "description_width": "initial"
     }
    },
    "19fcbdc3191d49c8b9ba447c44735f8f": {
     "model_module": "@jupyter-widgets/base",
     "model_name": "LayoutModel",
     "state": {
      "_model_module": "@jupyter-widgets/base",
      "_model_module_version": "1.2.0",
      "_model_name": "LayoutModel",
      "_view_count": null,
      "_view_module": "@jupyter-widgets/base",
      "_view_module_version": "1.2.0",
      "_view_name": "LayoutView",
      "align_content": null,
      "align_items": null,
      "align_self": null,
      "border": null,
      "bottom": null,
      "display": null,
      "flex": null,
      "flex_flow": null,
      "grid_area": null,
      "grid_auto_columns": null,
      "grid_auto_flow": null,
      "grid_auto_rows": null,
      "grid_column": null,
      "grid_gap": null,
      "grid_row": null,
      "grid_template_areas": null,
      "grid_template_columns": null,
      "grid_template_rows": null,
      "height": null,
      "justify_content": null,
      "justify_items": null,
      "left": null,
      "margin": null,
      "max_height": null,
      "max_width": null,
      "min_height": null,
      "min_width": null,
      "object_fit": null,
      "object_position": null,
      "order": null,
      "overflow": null,
      "overflow_x": null,
      "overflow_y": null,
      "padding": null,
      "right": null,
      "top": null,
      "visibility": null,
      "width": null
     }
    },
    "236dbc0b5bbd4e88a45877b5f1bfb7ee": {
     "model_module": "@jupyter-widgets/base",
     "model_name": "LayoutModel",
     "state": {
      "_model_module": "@jupyter-widgets/base",
      "_model_module_version": "1.2.0",
      "_model_name": "LayoutModel",
      "_view_count": null,
      "_view_module": "@jupyter-widgets/base",
      "_view_module_version": "1.2.0",
      "_view_name": "LayoutView",
      "align_content": null,
      "align_items": null,
      "align_self": null,
      "border": null,
      "bottom": null,
      "display": null,
      "flex": null,
      "flex_flow": null,
      "grid_area": null,
      "grid_auto_columns": null,
      "grid_auto_flow": null,
      "grid_auto_rows": null,
      "grid_column": null,
      "grid_gap": null,
      "grid_row": null,
      "grid_template_areas": null,
      "grid_template_columns": null,
      "grid_template_rows": null,
      "height": null,
      "justify_content": null,
      "justify_items": null,
      "left": null,
      "margin": null,
      "max_height": null,
      "max_width": null,
      "min_height": null,
      "min_width": null,
      "object_fit": null,
      "object_position": null,
      "order": null,
      "overflow": null,
      "overflow_x": null,
      "overflow_y": null,
      "padding": null,
      "right": null,
      "top": null,
      "visibility": null,
      "width": null
     }
    },
    "2457a4b7e8ac4d27bef96224ea8c9ab8": {
     "model_module": "@jupyter-widgets/base",
     "model_name": "LayoutModel",
     "state": {
      "_model_module": "@jupyter-widgets/base",
      "_model_module_version": "1.2.0",
      "_model_name": "LayoutModel",
      "_view_count": null,
      "_view_module": "@jupyter-widgets/base",
      "_view_module_version": "1.2.0",
      "_view_name": "LayoutView",
      "align_content": null,
      "align_items": null,
      "align_self": null,
      "border": null,
      "bottom": null,
      "display": null,
      "flex": null,
      "flex_flow": null,
      "grid_area": null,
      "grid_auto_columns": null,
      "grid_auto_flow": null,
      "grid_auto_rows": null,
      "grid_column": null,
      "grid_gap": null,
      "grid_row": null,
      "grid_template_areas": null,
      "grid_template_columns": null,
      "grid_template_rows": null,
      "height": null,
      "justify_content": null,
      "justify_items": null,
      "left": null,
      "margin": null,
      "max_height": null,
      "max_width": null,
      "min_height": null,
      "min_width": null,
      "object_fit": null,
      "object_position": null,
      "order": null,
      "overflow": null,
      "overflow_x": null,
      "overflow_y": null,
      "padding": null,
      "right": null,
      "top": null,
      "visibility": null,
      "width": null
     }
    },
    "277148b04c7945dda31014db0a77299b": {
     "model_module": "@jupyter-widgets/controls",
     "model_name": "HBoxModel",
     "state": {
      "_dom_classes": [],
      "_model_module": "@jupyter-widgets/controls",
      "_model_module_version": "1.5.0",
      "_model_name": "HBoxModel",
      "_view_count": null,
      "_view_module": "@jupyter-widgets/controls",
      "_view_module_version": "1.5.0",
      "_view_name": "HBoxView",
      "box_style": "",
      "children": [
       "IPY_MODEL_507a639ac0d94e1a8f1891731d7f9648",
       "IPY_MODEL_6c5a08d0aca9427e9b4b616dc59dee65"
      ],
      "layout": "IPY_MODEL_86ebfcfd3c014174921f6b3f04e56f9e"
     }
    },
    "2bfb0b9485064d0dac7fa98669955738": {
     "model_module": "@jupyter-widgets/controls",
     "model_name": "HTMLModel",
     "state": {
      "_dom_classes": [],
      "_model_module": "@jupyter-widgets/controls",
      "_model_module_version": "1.5.0",
      "_model_name": "HTMLModel",
      "_view_count": null,
      "_view_module": "@jupyter-widgets/controls",
      "_view_module_version": "1.5.0",
      "_view_name": "HTMLView",
      "description": "",
      "description_tooltip": null,
      "layout": "IPY_MODEL_7b0f24cd8b6e4a4082ac0f3a0ddaa173",
      "placeholder": "​",
      "style": "IPY_MODEL_42f0e62759a2492e8b0049bba6291706",
      "value": " 268M/268M [00:11&lt;00:00, 23.9MB/s]"
     }
    },
    "35498fe546424a7e8ec73a962be2d24b": {
     "model_module": "@jupyter-widgets/controls",
     "model_name": "FloatProgressModel",
     "state": {
      "_dom_classes": [],
      "_model_module": "@jupyter-widgets/controls",
      "_model_module_version": "1.5.0",
      "_model_name": "FloatProgressModel",
      "_view_count": null,
      "_view_module": "@jupyter-widgets/controls",
      "_view_module_version": "1.5.0",
      "_view_name": "ProgressView",
      "bar_style": "success",
      "description": "Downloading: 100%",
      "description_tooltip": null,
      "layout": "IPY_MODEL_a4747e288b304ab89f3ee34780adf3a6",
      "max": 442,
      "min": 0,
      "orientation": "horizontal",
      "style": "IPY_MODEL_114139be3fcb41428c431e964f547a58",
      "value": 442
     }
    },
    "412fe29636a24697967e71506980a0ff": {
     "model_module": "@jupyter-widgets/base",
     "model_name": "LayoutModel",
     "state": {
      "_model_module": "@jupyter-widgets/base",
      "_model_module_version": "1.2.0",
      "_model_name": "LayoutModel",
      "_view_count": null,
      "_view_module": "@jupyter-widgets/base",
      "_view_module_version": "1.2.0",
      "_view_name": "LayoutView",
      "align_content": null,
      "align_items": null,
      "align_self": null,
      "border": null,
      "bottom": null,
      "display": null,
      "flex": null,
      "flex_flow": null,
      "grid_area": null,
      "grid_auto_columns": null,
      "grid_auto_flow": null,
      "grid_auto_rows": null,
      "grid_column": null,
      "grid_gap": null,
      "grid_row": null,
      "grid_template_areas": null,
      "grid_template_columns": null,
      "grid_template_rows": null,
      "height": null,
      "justify_content": null,
      "justify_items": null,
      "left": null,
      "margin": null,
      "max_height": null,
      "max_width": null,
      "min_height": null,
      "min_width": null,
      "object_fit": null,
      "object_position": null,
      "order": null,
      "overflow": null,
      "overflow_x": null,
      "overflow_y": null,
      "padding": null,
      "right": null,
      "top": null,
      "visibility": null,
      "width": null
     }
    },
    "42f0e62759a2492e8b0049bba6291706": {
     "model_module": "@jupyter-widgets/controls",
     "model_name": "DescriptionStyleModel",
     "state": {
      "_model_module": "@jupyter-widgets/controls",
      "_model_module_version": "1.5.0",
      "_model_name": "DescriptionStyleModel",
      "_view_count": null,
      "_view_module": "@jupyter-widgets/base",
      "_view_module_version": "1.2.0",
      "_view_name": "StyleView",
      "description_width": ""
     }
    },
    "47cc0da5f4524c95afe6f68e72faeebe": {
     "model_module": "@jupyter-widgets/controls",
     "model_name": "ProgressStyleModel",
     "state": {
      "_model_module": "@jupyter-widgets/controls",
      "_model_module_version": "1.5.0",
      "_model_name": "ProgressStyleModel",
      "_view_count": null,
      "_view_module": "@jupyter-widgets/base",
      "_view_module_version": "1.2.0",
      "_view_name": "StyleView",
      "bar_color": null,
      "description_width": "initial"
     }
    },
    "49ffb1986a094eacbeab8d3cf6cdfaab": {
     "model_module": "@jupyter-widgets/controls",
     "model_name": "ProgressStyleModel",
     "state": {
      "_model_module": "@jupyter-widgets/controls",
      "_model_module_version": "1.5.0",
      "_model_name": "ProgressStyleModel",
      "_view_count": null,
      "_view_module": "@jupyter-widgets/base",
      "_view_module_version": "1.2.0",
      "_view_name": "StyleView",
      "bar_color": null,
      "description_width": "initial"
     }
    },
    "4b09530947e34b54bb1ea204deb832f6": {
     "model_module": "@jupyter-widgets/base",
     "model_name": "LayoutModel",
     "state": {
      "_model_module": "@jupyter-widgets/base",
      "_model_module_version": "1.2.0",
      "_model_name": "LayoutModel",
      "_view_count": null,
      "_view_module": "@jupyter-widgets/base",
      "_view_module_version": "1.2.0",
      "_view_name": "LayoutView",
      "align_content": null,
      "align_items": null,
      "align_self": null,
      "border": null,
      "bottom": null,
      "display": null,
      "flex": null,
      "flex_flow": null,
      "grid_area": null,
      "grid_auto_columns": null,
      "grid_auto_flow": null,
      "grid_auto_rows": null,
      "grid_column": null,
      "grid_gap": null,
      "grid_row": null,
      "grid_template_areas": null,
      "grid_template_columns": null,
      "grid_template_rows": null,
      "height": null,
      "justify_content": null,
      "justify_items": null,
      "left": null,
      "margin": null,
      "max_height": null,
      "max_width": null,
      "min_height": null,
      "min_width": null,
      "object_fit": null,
      "object_position": null,
      "order": null,
      "overflow": null,
      "overflow_x": null,
      "overflow_y": null,
      "padding": null,
      "right": null,
      "top": null,
      "visibility": null,
      "width": null
     }
    },
    "507a639ac0d94e1a8f1891731d7f9648": {
     "model_module": "@jupyter-widgets/controls",
     "model_name": "FloatProgressModel",
     "state": {
      "_dom_classes": [],
      "_model_module": "@jupyter-widgets/controls",
      "_model_module_version": "1.5.0",
      "_model_name": "FloatProgressModel",
      "_view_count": null,
      "_view_module": "@jupyter-widgets/controls",
      "_view_module_version": "1.5.0",
      "_view_name": "ProgressView",
      "bar_style": "success",
      "description": "Downloading: 100%",
      "description_tooltip": null,
      "layout": "IPY_MODEL_04e825fe87684f43878a50c4be6c3bb4",
      "max": 28,
      "min": 0,
      "orientation": "horizontal",
      "style": "IPY_MODEL_49ffb1986a094eacbeab8d3cf6cdfaab",
      "value": 28
     }
    },
    "52bfdf2739e1499ab89534fd23ad1391": {
     "model_module": "@jupyter-widgets/controls",
     "model_name": "HTMLModel",
     "state": {
      "_dom_classes": [],
      "_model_module": "@jupyter-widgets/controls",
      "_model_module_version": "1.5.0",
      "_model_name": "HTMLModel",
      "_view_count": null,
      "_view_module": "@jupyter-widgets/controls",
      "_view_module_version": "1.5.0",
      "_view_name": "HTMLView",
      "description": "",
      "description_tooltip": null,
      "layout": "IPY_MODEL_58a80336a7614cf0b3087cf72e1fed2a",
      "placeholder": "​",
      "style": "IPY_MODEL_f29fec3f8c76407abe1c8a8827589e6a",
      "value": " 442/442 [00:00&lt;00:00, 1.12kB/s]"
     }
    },
    "58a80336a7614cf0b3087cf72e1fed2a": {
     "model_module": "@jupyter-widgets/base",
     "model_name": "LayoutModel",
     "state": {
      "_model_module": "@jupyter-widgets/base",
      "_model_module_version": "1.2.0",
      "_model_name": "LayoutModel",
      "_view_count": null,
      "_view_module": "@jupyter-widgets/base",
      "_view_module_version": "1.2.0",
      "_view_name": "LayoutView",
      "align_content": null,
      "align_items": null,
      "align_self": null,
      "border": null,
      "bottom": null,
      "display": null,
      "flex": null,
      "flex_flow": null,
      "grid_area": null,
      "grid_auto_columns": null,
      "grid_auto_flow": null,
      "grid_auto_rows": null,
      "grid_column": null,
      "grid_gap": null,
      "grid_row": null,
      "grid_template_areas": null,
      "grid_template_columns": null,
      "grid_template_rows": null,
      "height": null,
      "justify_content": null,
      "justify_items": null,
      "left": null,
      "margin": null,
      "max_height": null,
      "max_width": null,
      "min_height": null,
      "min_width": null,
      "object_fit": null,
      "object_position": null,
      "order": null,
      "overflow": null,
      "overflow_x": null,
      "overflow_y": null,
      "padding": null,
      "right": null,
      "top": null,
      "visibility": null,
      "width": null
     }
    },
    "6c5a08d0aca9427e9b4b616dc59dee65": {
     "model_module": "@jupyter-widgets/controls",
     "model_name": "HTMLModel",
     "state": {
      "_dom_classes": [],
      "_model_module": "@jupyter-widgets/controls",
      "_model_module_version": "1.5.0",
      "_model_name": "HTMLModel",
      "_view_count": null,
      "_view_module": "@jupyter-widgets/controls",
      "_view_module_version": "1.5.0",
      "_view_name": "HTMLView",
      "description": "",
      "description_tooltip": null,
      "layout": "IPY_MODEL_4b09530947e34b54bb1ea204deb832f6",
      "placeholder": "​",
      "style": "IPY_MODEL_b05064ec57f344b0875c51266303a8e0",
      "value": " 28.0/28.0 [00:00&lt;00:00, 57.9B/s]"
     }
    },
    "7a0c734738e54c4db7ce7f007e4aee69": {
     "model_module": "@jupyter-widgets/base",
     "model_name": "LayoutModel",
     "state": {
      "_model_module": "@jupyter-widgets/base",
      "_model_module_version": "1.2.0",
      "_model_name": "LayoutModel",
      "_view_count": null,
      "_view_module": "@jupyter-widgets/base",
      "_view_module_version": "1.2.0",
      "_view_name": "LayoutView",
      "align_content": null,
      "align_items": null,
      "align_self": null,
      "border": null,
      "bottom": null,
      "display": null,
      "flex": null,
      "flex_flow": null,
      "grid_area": null,
      "grid_auto_columns": null,
      "grid_auto_flow": null,
      "grid_auto_rows": null,
      "grid_column": null,
      "grid_gap": null,
      "grid_row": null,
      "grid_template_areas": null,
      "grid_template_columns": null,
      "grid_template_rows": null,
      "height": null,
      "justify_content": null,
      "justify_items": null,
      "left": null,
      "margin": null,
      "max_height": null,
      "max_width": null,
      "min_height": null,
      "min_width": null,
      "object_fit": null,
      "object_position": null,
      "order": null,
      "overflow": null,
      "overflow_x": null,
      "overflow_y": null,
      "padding": null,
      "right": null,
      "top": null,
      "visibility": null,
      "width": null
     }
    },
    "7b0f24cd8b6e4a4082ac0f3a0ddaa173": {
     "model_module": "@jupyter-widgets/base",
     "model_name": "LayoutModel",
     "state": {
      "_model_module": "@jupyter-widgets/base",
      "_model_module_version": "1.2.0",
      "_model_name": "LayoutModel",
      "_view_count": null,
      "_view_module": "@jupyter-widgets/base",
      "_view_module_version": "1.2.0",
      "_view_name": "LayoutView",
      "align_content": null,
      "align_items": null,
      "align_self": null,
      "border": null,
      "bottom": null,
      "display": null,
      "flex": null,
      "flex_flow": null,
      "grid_area": null,
      "grid_auto_columns": null,
      "grid_auto_flow": null,
      "grid_auto_rows": null,
      "grid_column": null,
      "grid_gap": null,
      "grid_row": null,
      "grid_template_areas": null,
      "grid_template_columns": null,
      "grid_template_rows": null,
      "height": null,
      "justify_content": null,
      "justify_items": null,
      "left": null,
      "margin": null,
      "max_height": null,
      "max_width": null,
      "min_height": null,
      "min_width": null,
      "object_fit": null,
      "object_position": null,
      "order": null,
      "overflow": null,
      "overflow_x": null,
      "overflow_y": null,
      "padding": null,
      "right": null,
      "top": null,
      "visibility": null,
      "width": null
     }
    },
    "804f96253c52417fb39196006e57aeef": {
     "model_module": "@jupyter-widgets/controls",
     "model_name": "DescriptionStyleModel",
     "state": {
      "_model_module": "@jupyter-widgets/controls",
      "_model_module_version": "1.5.0",
      "_model_name": "DescriptionStyleModel",
      "_view_count": null,
      "_view_module": "@jupyter-widgets/base",
      "_view_module_version": "1.2.0",
      "_view_name": "StyleView",
      "description_width": ""
     }
    },
    "86ebfcfd3c014174921f6b3f04e56f9e": {
     "model_module": "@jupyter-widgets/base",
     "model_name": "LayoutModel",
     "state": {
      "_model_module": "@jupyter-widgets/base",
      "_model_module_version": "1.2.0",
      "_model_name": "LayoutModel",
      "_view_count": null,
      "_view_module": "@jupyter-widgets/base",
      "_view_module_version": "1.2.0",
      "_view_name": "LayoutView",
      "align_content": null,
      "align_items": null,
      "align_self": null,
      "border": null,
      "bottom": null,
      "display": null,
      "flex": null,
      "flex_flow": null,
      "grid_area": null,
      "grid_auto_columns": null,
      "grid_auto_flow": null,
      "grid_auto_rows": null,
      "grid_column": null,
      "grid_gap": null,
      "grid_row": null,
      "grid_template_areas": null,
      "grid_template_columns": null,
      "grid_template_rows": null,
      "height": null,
      "justify_content": null,
      "justify_items": null,
      "left": null,
      "margin": null,
      "max_height": null,
      "max_width": null,
      "min_height": null,
      "min_width": null,
      "object_fit": null,
      "object_position": null,
      "order": null,
      "overflow": null,
      "overflow_x": null,
      "overflow_y": null,
      "padding": null,
      "right": null,
      "top": null,
      "visibility": null,
      "width": null
     }
    },
    "98fef9a308f74e839ae8f446841c5643": {
     "model_module": "@jupyter-widgets/controls",
     "model_name": "ProgressStyleModel",
     "state": {
      "_model_module": "@jupyter-widgets/controls",
      "_model_module_version": "1.5.0",
      "_model_name": "ProgressStyleModel",
      "_view_count": null,
      "_view_module": "@jupyter-widgets/base",
      "_view_module_version": "1.2.0",
      "_view_name": "StyleView",
      "bar_color": null,
      "description_width": "initial"
     }
    },
    "a4747e288b304ab89f3ee34780adf3a6": {
     "model_module": "@jupyter-widgets/base",
     "model_name": "LayoutModel",
     "state": {
      "_model_module": "@jupyter-widgets/base",
      "_model_module_version": "1.2.0",
      "_model_name": "LayoutModel",
      "_view_count": null,
      "_view_module": "@jupyter-widgets/base",
      "_view_module_version": "1.2.0",
      "_view_name": "LayoutView",
      "align_content": null,
      "align_items": null,
      "align_self": null,
      "border": null,
      "bottom": null,
      "display": null,
      "flex": null,
      "flex_flow": null,
      "grid_area": null,
      "grid_auto_columns": null,
      "grid_auto_flow": null,
      "grid_auto_rows": null,
      "grid_column": null,
      "grid_gap": null,
      "grid_row": null,
      "grid_template_areas": null,
      "grid_template_columns": null,
      "grid_template_rows": null,
      "height": null,
      "justify_content": null,
      "justify_items": null,
      "left": null,
      "margin": null,
      "max_height": null,
      "max_width": null,
      "min_height": null,
      "min_width": null,
      "object_fit": null,
      "object_position": null,
      "order": null,
      "overflow": null,
      "overflow_x": null,
      "overflow_y": null,
      "padding": null,
      "right": null,
      "top": null,
      "visibility": null,
      "width": null
     }
    },
    "aa036d5b96874b428a25f8602391ee14": {
     "model_module": "@jupyter-widgets/controls",
     "model_name": "HTMLModel",
     "state": {
      "_dom_classes": [],
      "_model_module": "@jupyter-widgets/controls",
      "_model_module_version": "1.5.0",
      "_model_name": "HTMLModel",
      "_view_count": null,
      "_view_module": "@jupyter-widgets/controls",
      "_view_module_version": "1.5.0",
      "_view_name": "HTMLView",
      "description": "",
      "description_tooltip": null,
      "layout": "IPY_MODEL_fcf7a10deda04fa5941de0b722b572ce",
      "placeholder": "​",
      "style": "IPY_MODEL_804f96253c52417fb39196006e57aeef",
      "value": " 232k/232k [00:00&lt;00:00, 406kB/s]"
     }
    },
    "ae0a7b64bb0047c185f4ed6664bedde7": {
     "model_module": "@jupyter-widgets/controls",
     "model_name": "DescriptionStyleModel",
     "state": {
      "_model_module": "@jupyter-widgets/controls",
      "_model_module_version": "1.5.0",
      "_model_name": "DescriptionStyleModel",
      "_view_count": null,
      "_view_module": "@jupyter-widgets/base",
      "_view_module_version": "1.2.0",
      "_view_name": "StyleView",
      "description_width": ""
     }
    },
    "b05064ec57f344b0875c51266303a8e0": {
     "model_module": "@jupyter-widgets/controls",
     "model_name": "DescriptionStyleModel",
     "state": {
      "_model_module": "@jupyter-widgets/controls",
      "_model_module_version": "1.5.0",
      "_model_name": "DescriptionStyleModel",
      "_view_count": null,
      "_view_module": "@jupyter-widgets/base",
      "_view_module_version": "1.2.0",
      "_view_name": "StyleView",
      "description_width": ""
     }
    },
    "b67b676311a44e39ad2405f64a185507": {
     "model_module": "@jupyter-widgets/base",
     "model_name": "LayoutModel",
     "state": {
      "_model_module": "@jupyter-widgets/base",
      "_model_module_version": "1.2.0",
      "_model_name": "LayoutModel",
      "_view_count": null,
      "_view_module": "@jupyter-widgets/base",
      "_view_module_version": "1.2.0",
      "_view_name": "LayoutView",
      "align_content": null,
      "align_items": null,
      "align_self": null,
      "border": null,
      "bottom": null,
      "display": null,
      "flex": null,
      "flex_flow": null,
      "grid_area": null,
      "grid_auto_columns": null,
      "grid_auto_flow": null,
      "grid_auto_rows": null,
      "grid_column": null,
      "grid_gap": null,
      "grid_row": null,
      "grid_template_areas": null,
      "grid_template_columns": null,
      "grid_template_rows": null,
      "height": null,
      "justify_content": null,
      "justify_items": null,
      "left": null,
      "margin": null,
      "max_height": null,
      "max_width": null,
      "min_height": null,
      "min_width": null,
      "object_fit": null,
      "object_position": null,
      "order": null,
      "overflow": null,
      "overflow_x": null,
      "overflow_y": null,
      "padding": null,
      "right": null,
      "top": null,
      "visibility": null,
      "width": null
     }
    },
    "be0b6f7e91d2438eb09db6c0a1bfc96c": {
     "model_module": "@jupyter-widgets/controls",
     "model_name": "HBoxModel",
     "state": {
      "_dom_classes": [],
      "_model_module": "@jupyter-widgets/controls",
      "_model_module_version": "1.5.0",
      "_model_name": "HBoxModel",
      "_view_count": null,
      "_view_module": "@jupyter-widgets/controls",
      "_view_module_version": "1.5.0",
      "_view_name": "HBoxView",
      "box_style": "",
      "children": [
       "IPY_MODEL_fb9107c2de7644788a586841962a1b27",
       "IPY_MODEL_2bfb0b9485064d0dac7fa98669955738"
      ],
      "layout": "IPY_MODEL_0262f9c759a14bf8b79cb880b8cc6643"
     }
    },
    "ce062666b48e49818f9ee47f0c93ea21": {
     "model_module": "@jupyter-widgets/base",
     "model_name": "LayoutModel",
     "state": {
      "_model_module": "@jupyter-widgets/base",
      "_model_module_version": "1.2.0",
      "_model_name": "LayoutModel",
      "_view_count": null,
      "_view_module": "@jupyter-widgets/base",
      "_view_module_version": "1.2.0",
      "_view_name": "LayoutView",
      "align_content": null,
      "align_items": null,
      "align_self": null,
      "border": null,
      "bottom": null,
      "display": null,
      "flex": null,
      "flex_flow": null,
      "grid_area": null,
      "grid_auto_columns": null,
      "grid_auto_flow": null,
      "grid_auto_rows": null,
      "grid_column": null,
      "grid_gap": null,
      "grid_row": null,
      "grid_template_areas": null,
      "grid_template_columns": null,
      "grid_template_rows": null,
      "height": null,
      "justify_content": null,
      "justify_items": null,
      "left": null,
      "margin": null,
      "max_height": null,
      "max_width": null,
      "min_height": null,
      "min_width": null,
      "object_fit": null,
      "object_position": null,
      "order": null,
      "overflow": null,
      "overflow_x": null,
      "overflow_y": null,
      "padding": null,
      "right": null,
      "top": null,
      "visibility": null,
      "width": null
     }
    },
    "d623ee66f42d4c7288da72d59e1c28a2": {
     "model_module": "@jupyter-widgets/controls",
     "model_name": "HBoxModel",
     "state": {
      "_dom_classes": [],
      "_model_module": "@jupyter-widgets/controls",
      "_model_module_version": "1.5.0",
      "_model_name": "HBoxModel",
      "_view_count": null,
      "_view_module": "@jupyter-widgets/controls",
      "_view_module_version": "1.5.0",
      "_view_name": "HBoxView",
      "box_style": "",
      "children": [
       "IPY_MODEL_101c41aa61804531bb24df93baf6b284",
       "IPY_MODEL_d7626c9282354af693ebb7f70fc6d915"
      ],
      "layout": "IPY_MODEL_7a0c734738e54c4db7ce7f007e4aee69"
     }
    },
    "d7626c9282354af693ebb7f70fc6d915": {
     "model_module": "@jupyter-widgets/controls",
     "model_name": "HTMLModel",
     "state": {
      "_dom_classes": [],
      "_model_module": "@jupyter-widgets/controls",
      "_model_module_version": "1.5.0",
      "_model_name": "HTMLModel",
      "_view_count": null,
      "_view_module": "@jupyter-widgets/controls",
      "_view_module_version": "1.5.0",
      "_view_name": "HTMLView",
      "description": "",
      "description_tooltip": null,
      "layout": "IPY_MODEL_2457a4b7e8ac4d27bef96224ea8c9ab8",
      "placeholder": "​",
      "style": "IPY_MODEL_ae0a7b64bb0047c185f4ed6664bedde7",
      "value": " 466k/466k [00:00&lt;00:00, 2.24MB/s]"
     }
    },
    "d8457201b97d469285470d8b912200be": {
     "model_module": "@jupyter-widgets/controls",
     "model_name": "FloatProgressModel",
     "state": {
      "_dom_classes": [],
      "_model_module": "@jupyter-widgets/controls",
      "_model_module_version": "1.5.0",
      "_model_name": "FloatProgressModel",
      "_view_count": null,
      "_view_module": "@jupyter-widgets/controls",
      "_view_module_version": "1.5.0",
      "_view_name": "ProgressView",
      "bar_style": "success",
      "description": "Downloading: 100%",
      "description_tooltip": null,
      "layout": "IPY_MODEL_b67b676311a44e39ad2405f64a185507",
      "max": 231508,
      "min": 0,
      "orientation": "horizontal",
      "style": "IPY_MODEL_13160fed6a004dbfa8161be59ff858cc",
      "value": 231508
     }
    },
    "f29fec3f8c76407abe1c8a8827589e6a": {
     "model_module": "@jupyter-widgets/controls",
     "model_name": "DescriptionStyleModel",
     "state": {
      "_model_module": "@jupyter-widgets/controls",
      "_model_module_version": "1.5.0",
      "_model_name": "DescriptionStyleModel",
      "_view_count": null,
      "_view_module": "@jupyter-widgets/base",
      "_view_module_version": "1.2.0",
      "_view_name": "StyleView",
      "description_width": ""
     }
    },
    "f7a3fdbe85c7461e97ad60cb74ed768b": {
     "model_module": "@jupyter-widgets/controls",
     "model_name": "HBoxModel",
     "state": {
      "_dom_classes": [],
      "_model_module": "@jupyter-widgets/controls",
      "_model_module_version": "1.5.0",
      "_model_name": "HBoxModel",
      "_view_count": null,
      "_view_module": "@jupyter-widgets/controls",
      "_view_module_version": "1.5.0",
      "_view_name": "HBoxView",
      "box_style": "",
      "children": [
       "IPY_MODEL_d8457201b97d469285470d8b912200be",
       "IPY_MODEL_aa036d5b96874b428a25f8602391ee14"
      ],
      "layout": "IPY_MODEL_ce062666b48e49818f9ee47f0c93ea21"
     }
    },
    "fb9107c2de7644788a586841962a1b27": {
     "model_module": "@jupyter-widgets/controls",
     "model_name": "FloatProgressModel",
     "state": {
      "_dom_classes": [],
      "_model_module": "@jupyter-widgets/controls",
      "_model_module_version": "1.5.0",
      "_model_name": "FloatProgressModel",
      "_view_count": null,
      "_view_module": "@jupyter-widgets/controls",
      "_view_module_version": "1.5.0",
      "_view_name": "ProgressView",
      "bar_style": "success",
      "description": "Downloading: 100%",
      "description_tooltip": null,
      "layout": "IPY_MODEL_412fe29636a24697967e71506980a0ff",
      "max": 267967963,
      "min": 0,
      "orientation": "horizontal",
      "style": "IPY_MODEL_98fef9a308f74e839ae8f446841c5643",
      "value": 267967963
     }
    },
    "fcf7a10deda04fa5941de0b722b572ce": {
     "model_module": "@jupyter-widgets/base",
     "model_name": "LayoutModel",
     "state": {
      "_model_module": "@jupyter-widgets/base",
      "_model_module_version": "1.2.0",
      "_model_name": "LayoutModel",
      "_view_count": null,
      "_view_module": "@jupyter-widgets/base",
      "_view_module_version": "1.2.0",
      "_view_name": "LayoutView",
      "align_content": null,
      "align_items": null,
      "align_self": null,
      "border": null,
      "bottom": null,
      "display": null,
      "flex": null,
      "flex_flow": null,
      "grid_area": null,
      "grid_auto_columns": null,
      "grid_auto_flow": null,
      "grid_auto_rows": null,
      "grid_column": null,
      "grid_gap": null,
      "grid_row": null,
      "grid_template_areas": null,
      "grid_template_columns": null,
      "grid_template_rows": null,
      "height": null,
      "justify_content": null,
      "justify_items": null,
      "left": null,
      "margin": null,
      "max_height": null,
      "max_width": null,
      "min_height": null,
      "min_width": null,
      "object_fit": null,
      "object_position": null,
      "order": null,
      "overflow": null,
      "overflow_x": null,
      "overflow_y": null,
      "padding": null,
      "right": null,
      "top": null,
      "visibility": null,
      "width": null
     }
    }
   }
  }
 },
 "nbformat": 4,
 "nbformat_minor": 5
}
